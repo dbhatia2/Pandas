{
 "cells": [
  {
   "cell_type": "code",
   "execution_count": null,
   "metadata": {},
   "outputs": [],
   "source": [
    "#ndarray\n",
    "\n",
    "import numpy as np\n",
    "\n",
    "\n",
    "\n",
    "''' creating ndarray'''\n",
    "#1. from list\n",
    "\n",
    "l = [1,2,3,4,3.0,]\n",
    "l1 = [[1,2,3],[4,5,6],[7,8,9]]\n",
    "nd = np.array(l)\n",
    "nd1 = np.array(l1)\n",
    "print(nd ,\"\\n\", nd1,\"\\n\",nd1.shape,\"\\n\",nd.shape)\n",
    "\n",
    "\n",
    "# using  built in functions.\n",
    "print(np.zeros(10))\n",
    "print(np.ones(10))\n",
    "print(np.zeros((10,2)))\n",
    "print(np.empty((4,5)))\n",
    "print(np.array([1,3,4,5,2]))\n",
    "\n",
    "\n",
    "# array data type conversion \n",
    "\n",
    "arr = np.array([1,2,3,4,5])\n",
    "arr.dtype\n",
    "print(\"print arr:\\t\",arr,\"\\t\",arr.dtype)\n",
    "arr1 = arr.copy()\n",
    "print(\"print arr1:\\t\",arr1,\"\\t\",arr1.dtype)\n",
    "fl_arr = arr.astype(np.float32)\n",
    "print(\"print fl_arr:\\t\",fl_arr,\"\\t\",fl_arr.dtype)\n",
    "\n",
    "num_strings = np.array([1,'.2','1.2'],dtype=np.string_)\n",
    "np_fl = num_strings.astype(dtype = np.float)\n",
    "print(\"print num_strings:\\t\",num_strings,\"\\t\",num_strings.dtype)\n",
    "print(\"print np_fl:\\t\",np_fl,\"\\t\",np_fl.dtype)\n",
    "\n",
    "\n",
    "# vectorization \n",
    "# any scaler operation between array of same size happens elmentwise\n",
    "\n",
    "a1 = np.array(([1,2],[3,4]))\n",
    "a2 = np.array(([.1,.2],[.3,.4]))\n",
    "\n",
    "print (a1+a2)\n",
    "print (a1*a2)\n",
    "print (a1-a2)\n",
    "print (a1*10)\n",
    "\n",
    "\n"
   ]
  },
  {
   "cell_type": "code",
   "execution_count": null,
   "metadata": {},
   "outputs": [],
   "source": [
    "''' indexing and slicing'''\n",
    "\n",
    "arr = np.arange(10)\n",
    "print(arr[4:6])\n",
    "\n",
    "arr_slice = arr[4:6]\n",
    "arr_slice[0]\n",
    "arr_slice[0]=40\n",
    "print (arr_slice,\"\\n\",arr) ## operation on slice replicaed main arr. numpy is designed for high computing so it\n",
    "# doesn't copy the array's just place pointers.\n",
    "\n",
    "arr_slice[:]=60 ## another example : updating all elements\n",
    "print (arr_slice,\"\\n\",arr) \n",
    "\n",
    "# to copy explictly use copy\n",
    "\n",
    "arr_copy = arr[1:5].copy()\n",
    "print(arr_copy)\n",
    "arr_copy[:] = 100\n",
    "print (arr_copy,\"\\n\",arr)\n"
   ]
  },
  {
   "cell_type": "code",
   "execution_count": null,
   "metadata": {},
   "outputs": [],
   "source": [
    "# multi dimentional array\n",
    "print(\"# multi dimentional array\")\n",
    "arr2d = np.array([[1,2,3],[4,5,6],[7,8,9]])\n",
    "print(arr2d,\"\\t\",arr2d.shape)\n",
    "arr2d_slice=arr2d[:3,:2] # replresents x axis and y axis slicing\n",
    "print(arr2d_slice,\"\\t\",arr2d_slice.shape)\n",
    "\n",
    "\n",
    "\n",
    "# print(\"# 3 dimentional array\")\n",
    "# arr3d = np.array([[[1,2,3],[4,5,6]],[[7,8,9],[10,11,12]],[[13,14,15],[16,17,18]]])\n",
    "# print(arr3d,\"\\t\",arr3d.shape)\n",
    "\n",
    "\n",
    "\n"
   ]
  },
  {
   "cell_type": "code",
   "execution_count": null,
   "metadata": {},
   "outputs": [],
   "source": [
    "''' Bollean Indexing '''\n",
    "names = np.array(['Bob', 'Joe', 'Will', 'Bob', 'Will', 'Joe', 'Joe'])\n",
    "data = np.random.rand(7,4)\n",
    "\n",
    "print(data)\n",
    "print(names=='Bob') # compare 'Bob' in array and return array of boolean values\n",
    "print (data[names == 'Bob']) # it rutrun the values when \n",
    "data[data<0.5] =0 # compare of values in matrices\n",
    "print(data)"
   ]
  },
  {
   "cell_type": "code",
   "execution_count": null,
   "metadata": {},
   "outputs": [],
   "source": [
    "'''fancing indexes'''\n",
    "\n"
   ]
  }
 ],
 "metadata": {
  "kernelspec": {
   "display_name": "Python 3",
   "language": "python",
   "name": "python3"
  },
  "language_info": {
   "codemirror_mode": {
    "name": "ipython",
    "version": 3
   },
   "file_extension": ".py",
   "mimetype": "text/x-python",
   "name": "python",
   "nbconvert_exporter": "python",
   "pygments_lexer": "ipython3",
   "version": "3.6.4"
  }
 },
 "nbformat": 4,
 "nbformat_minor": 2
}
